{
 "cells": [
  {
   "cell_type": "code",
   "execution_count": 34,
   "id": "a85d0b13",
   "metadata": {},
   "outputs": [],
   "source": [
    "import pandas as pd\n",
    "df=pd.read_csv(\"C:\\\\Users\\\\Admin\\\\Desktop\\\\New folder\\\\Swarm_Behaviour.csv\")"
   ]
  },
  {
   "cell_type": "code",
   "execution_count": 53,
   "id": "1ec69c35",
   "metadata": {},
   "outputs": [],
   "source": [
    "x=df.iloc[:,:-1]\n",
    "y=df.iloc[:,-1]"
   ]
  },
  {
   "cell_type": "code",
   "execution_count": 54,
   "id": "3b0dd9b4",
   "metadata": {},
   "outputs": [],
   "source": [
    "from sklearn.model_selection import train_test_split\n",
    "xtrain,xtest,ytrain,ytest=train_test_split(x,y,test_size=0.25,random_state=0)\n",
    "from sklearn.metrics import classification_report,accuracy_score"
   ]
  },
  {
   "cell_type": "code",
   "execution_count": 55,
   "id": "e52f8658",
   "metadata": {},
   "outputs": [],
   "source": [
    "from sklearn.preprocessing import StandardScaler,MinMaxScaler\n",
    "sc=StandardScaler()\n",
    "mm=MinMaxScaler()\n",
    "xtrain1=mm.fit_transform(xtrain)\n",
    "xtest1=mm.transform(xtest)"
   ]
  },
  {
   "cell_type": "code",
   "execution_count": 56,
   "id": "4c607f4f",
   "metadata": {},
   "outputs": [
    {
     "name": "stderr",
     "output_type": "stream",
     "text": [
      "C:\\ProgramData\\Anaconda3\\lib\\site-packages\\sklearn\\linear_model\\_logistic.py:763: ConvergenceWarning: lbfgs failed to converge (status=1):\n",
      "STOP: TOTAL NO. of ITERATIONS REACHED LIMIT.\n",
      "\n",
      "Increase the number of iterations (max_iter) or scale the data as shown in:\n",
      "    https://scikit-learn.org/stable/modules/preprocessing.html\n",
      "Please also refer to the documentation for alternative solver options:\n",
      "    https://scikit-learn.org/stable/modules/linear_model.html#logistic-regression\n",
      "  n_iter_i = _check_optimize_result(\n"
     ]
    },
    {
     "data": {
      "text/plain": [
       "LogisticRegression()"
      ]
     },
     "execution_count": 56,
     "metadata": {},
     "output_type": "execute_result"
    }
   ],
   "source": [
    "from sklearn.linear_model import LogisticRegression\n",
    "lr=LogisticRegression()\n",
    "lr.fit(xtrain1,ytrain)"
   ]
  },
  {
   "cell_type": "code",
   "execution_count": 57,
   "id": "f73979ef",
   "metadata": {},
   "outputs": [
    {
     "name": "stdout",
     "output_type": "stream",
     "text": [
      "              precision    recall  f1-score   support\n",
      "\n",
      "         0.0       0.91      0.92      0.92      3844\n",
      "         1.0       0.85      0.82      0.84      1984\n",
      "\n",
      "    accuracy                           0.89      5828\n",
      "   macro avg       0.88      0.87      0.88      5828\n",
      "weighted avg       0.89      0.89      0.89      5828\n",
      "\n",
      "Logistic Regression-Accuracy Score: 0.8894989704873026\n"
     ]
    }
   ],
   "source": [
    "ypred=lr.predict(xtest1)\n",
    "print(classification_report(ytest,ypred))\n",
    "print(\"Logistic Regression-Accuracy Score:\",accuracy_score(ytest,ypred))"
   ]
  },
  {
   "cell_type": "code",
   "execution_count": 58,
   "id": "c42005ba",
   "metadata": {},
   "outputs": [
    {
     "name": "stdout",
     "output_type": "stream",
     "text": [
      "              precision    recall  f1-score   support\n",
      "\n",
      "         0.0       0.90      0.96      0.93      3844\n",
      "         1.0       0.90      0.79      0.84      1984\n",
      "\n",
      "    accuracy                           0.90      5828\n",
      "   macro avg       0.90      0.87      0.88      5828\n",
      "weighted avg       0.90      0.90      0.90      5828\n",
      "\n",
      "KNN-Accuracy Score: 0.8987645847632121\n"
     ]
    }
   ],
   "source": [
    "from sklearn.neighbors import KNeighborsClassifier\n",
    "nn = KNeighborsClassifier(n_neighbors=100)\n",
    "nn.fit(xtrain1,ytrain)\n",
    "ypred=nn.predict(xtest1)\n",
    "print(classification_report(ytest,ypred))\n",
    "print(\"KNN-Accuracy Score:\",accuracy_score(ytest,ypred))"
   ]
  },
  {
   "cell_type": "code",
   "execution_count": 59,
   "id": "c81e451e",
   "metadata": {},
   "outputs": [
    {
     "name": "stdout",
     "output_type": "stream",
     "text": [
      "              precision    recall  f1-score   support\n",
      "\n",
      "         0.0       0.89      0.91      0.90      3844\n",
      "         1.0       0.82      0.79      0.80      1984\n",
      "\n",
      "    accuracy                           0.87      5828\n",
      "   macro avg       0.86      0.85      0.85      5828\n",
      "weighted avg       0.87      0.87      0.87      5828\n",
      "\n",
      "Decision Tree-Accuracy Score: 0.8699382292381606\n"
     ]
    }
   ],
   "source": [
    "from sklearn.tree import DecisionTreeClassifier\n",
    "tree=DecisionTreeClassifier()\n",
    "tree.fit(xtrain1,ytrain)\n",
    "ypred=tree.predict(xtest1)\n",
    "print(classification_report(ytest,ypred))\n",
    "print(\"Decision Tree-Accuracy Score:\",accuracy_score(ytest,ypred))"
   ]
  },
  {
   "cell_type": "code",
   "execution_count": 60,
   "id": "669c3d96",
   "metadata": {},
   "outputs": [
    {
     "name": "stdout",
     "output_type": "stream",
     "text": [
      "              precision    recall  f1-score   support\n",
      "\n",
      "         0.0       0.88      0.19      0.31      3844\n",
      "         1.0       0.38      0.95      0.54      1984\n",
      "\n",
      "    accuracy                           0.45      5828\n",
      "   macro avg       0.63      0.57      0.43      5828\n",
      "weighted avg       0.71      0.45      0.39      5828\n",
      "\n",
      "Naive Bayes-Accuracy Score: 0.4483527796842828\n"
     ]
    }
   ],
   "source": [
    "from sklearn.naive_bayes import GaussianNB\n",
    "nb=GaussianNB()\n",
    "nb.fit(xtrain,ytrain)\n",
    "ypred=nb.predict(xtest)\n",
    "print(classification_report(ytest,ypred))\n",
    "print(\"Naive Bayes-Accuracy Score:\",accuracy_score(ytest,ypred))"
   ]
  },
  {
   "cell_type": "markdown",
   "id": "224aaede",
   "metadata": {},
   "source": [
    "### Maximum accuracy:KNN algorithm>Logistic Regression>Decision Tree>Naive Bayes"
   ]
  },
  {
   "cell_type": "code",
   "execution_count": null,
   "id": "4f7d33fc",
   "metadata": {},
   "outputs": [],
   "source": []
  }
 ],
 "metadata": {
  "kernelspec": {
   "display_name": "Python 3 (ipykernel)",
   "language": "python",
   "name": "python3"
  },
  "language_info": {
   "codemirror_mode": {
    "name": "ipython",
    "version": 3
   },
   "file_extension": ".py",
   "mimetype": "text/x-python",
   "name": "python",
   "nbconvert_exporter": "python",
   "pygments_lexer": "ipython3",
   "version": "3.9.7"
  }
 },
 "nbformat": 4,
 "nbformat_minor": 5
}
