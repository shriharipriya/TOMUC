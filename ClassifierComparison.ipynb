{
 "cells": [
  {
   "cell_type": "code",
   "execution_count": 2,
   "id": "28218c86",
   "metadata": {},
   "outputs": [],
   "source": [
    "import pandas as pd\n",
    "import matplotlib.pyplot as plt\n",
    "df=pd.read_csv(r\"D:\\SNU\\Sem4\\MLT\\clsfctn\\mushrooms.csv\")\n",
    "cols=['cap-shape', 'cap-surface', 'cap-color', 'bruises', 'odor',\n",
    "       'gill-attachment', 'gill-spacing', 'gill-size', 'gill-color',\n",
    "       'stalk-shape', 'stalk-root', 'stalk-surface-above-ring',\n",
    "       'stalk-surface-below-ring', 'stalk-color-above-ring',\n",
    "       'stalk-color-below-ring', 'veil-type', 'veil-color', 'ring-number',\n",
    "       'ring-type', 'spore-print-color', 'population', 'habitat','class']\n",
    "df=df[cols]\n",
    "df.describe()\n",
    "df=df.drop(\"veil-type\",axis=1)#as that column has only one unique value\n"
   ]
  },
  {
   "cell_type": "code",
   "execution_count": 3,
   "id": "d6baf320",
   "metadata": {},
   "outputs": [],
   "source": [
    "#applying label encoding\n",
    "from sklearn.preprocessing import LabelEncoder\n",
    "labenc=LabelEncoder()\n",
    "for col in df.columns:\n",
    "    df[col] = labenc.fit_transform(df[col])\n"
   ]
  },
  {
   "cell_type": "code",
   "execution_count": 4,
   "id": "84529127",
   "metadata": {},
   "outputs": [],
   "source": [
    "x=df.iloc[:,:-1].values\n",
    "y=df.iloc[:,-1].values\n",
    "from sklearn.model_selection import train_test_split\n",
    "xtrain,xtest,ytrain,ytest=train_test_split(x,y,test_size=0.25,random_state=0)\n",
    "from sklearn.metrics import classification_report,accuracy_score\n"
   ]
  },
  {
   "cell_type": "code",
   "execution_count": 5,
   "id": "2fa1c24b",
   "metadata": {},
   "outputs": [],
   "source": [
    "#scaling the data to use it for certain classifiers\n",
    "from sklearn.neighbors import KNeighborsClassifier\n",
    "from sklearn.preprocessing import StandardScaler, MinMaxScaler\n",
    "sc = StandardScaler()\n",
    "mm = MinMaxScaler()\n",
    "xtrain1 = mm.fit_transform(xtrain)\n",
    "xtest1 = mm.transform(xtest)"
   ]
  },
  {
   "cell_type": "markdown",
   "id": "bb38c7f6",
   "metadata": {},
   "source": [
    "## Logistic Regression"
   ]
  },
  {
   "cell_type": "code",
   "execution_count": 6,
   "id": "25d579d0",
   "metadata": {},
   "outputs": [
    {
     "name": "stdout",
     "output_type": "stream",
     "text": [
      "              precision    recall  f1-score   support\n",
      "\n",
      "           0       0.95      0.96      0.95      1061\n",
      "           1       0.96      0.94      0.95       970\n",
      "\n",
      "    accuracy                           0.95      2031\n",
      "   macro avg       0.95      0.95      0.95      2031\n",
      "weighted avg       0.95      0.95      0.95      2031\n",
      "\n",
      "Logistic regression accuracy Score: 0.9507631708517972\n"
     ]
    }
   ],
   "source": [
    "from sklearn.linear_model import LogisticRegression\n",
    "lr=LogisticRegression()\n",
    "xtrain = sc.fit_transform(xtrain)\n",
    "xtest = sc.transform(xtest)\n",
    "lr.fit(xtrain,ytrain)\n",
    "ypred=lr.predict(xtest)\n",
    "print(classification_report(ytest,ypred))\n",
    "print(\"Logistic regression accuracy Score:\",accuracy_score(ytest,ypred))"
   ]
  },
  {
   "cell_type": "markdown",
   "id": "8f2fbf13",
   "metadata": {},
   "source": [
    "## Naive Bayes Classifier\n"
   ]
  },
  {
   "cell_type": "code",
   "execution_count": 7,
   "id": "08a0d010",
   "metadata": {},
   "outputs": [
    {
     "name": "stdout",
     "output_type": "stream",
     "text": [
      "              precision    recall  f1-score   support\n",
      "\n",
      "           0       0.92      0.91      0.92      1061\n",
      "           1       0.90      0.92      0.91       970\n",
      "\n",
      "    accuracy                           0.91      2031\n",
      "   macro avg       0.91      0.91      0.91      2031\n",
      "weighted avg       0.91      0.91      0.91      2031\n",
      "\n",
      "Naive bayes accuracy Score: 0.914327917282127\n"
     ]
    }
   ],
   "source": [
    "from sklearn.naive_bayes import GaussianNB\n",
    "nb=GaussianNB()\n",
    "nb.fit(xtrain,ytrain)\n",
    "ypred=nb.predict(xtest)\n",
    "print(classification_report(ytest,ypred))\n",
    "print(\"Naive bayes accuracy Score:\",accuracy_score(ytest,ypred))"
   ]
  },
  {
   "cell_type": "markdown",
   "id": "05c3c765",
   "metadata": {},
   "source": [
    "## KNN classifier"
   ]
  },
  {
   "cell_type": "code",
   "execution_count": 8,
   "id": "0b96bb19",
   "metadata": {},
   "outputs": [
    {
     "name": "stdout",
     "output_type": "stream",
     "text": [
      "              precision    recall  f1-score   support\n",
      "\n",
      "           0       0.99      1.00      0.99      1061\n",
      "           1       1.00      0.99      0.99       970\n",
      "\n",
      "    accuracy                           0.99      2031\n",
      "   macro avg       0.99      0.99      0.99      2031\n",
      "weighted avg       0.99      0.99      0.99      2031\n",
      "\n",
      "KNN accuracy Score: 0.9931068439192516\n"
     ]
    },
    {
     "name": "stderr",
     "output_type": "stream",
     "text": [
      "C:\\Users\\Harip\\anaconda3\\lib\\site-packages\\sklearn\\neighbors\\_classification.py:228: FutureWarning: Unlike other reduction functions (e.g. `skew`, `kurtosis`), the default behavior of `mode` typically preserves the axis it acts along. In SciPy 1.11.0, this behavior will change: the default value of `keepdims` will become False, the `axis` over which the statistic is taken will be eliminated, and the value None will no longer be accepted. Set `keepdims` to True or False to avoid this warning.\n",
      "  mode, _ = stats.mode(_y[neigh_ind, k], axis=1)\n"
     ]
    }
   ],
   "source": [
    "nn = KNeighborsClassifier(n_neighbors=50)\n",
    "nn.fit(xtrain1,ytrain)\n",
    "ypred=nn.predict(xtest1)\n",
    "print(classification_report(ytest,ypred))\n",
    "print(\"KNN accuracy Score:\",accuracy_score(ytest,ypred))"
   ]
  },
  {
   "cell_type": "markdown",
   "id": "891dd127",
   "metadata": {},
   "source": [
    "## Decision tree classifier"
   ]
  },
  {
   "cell_type": "code",
   "execution_count": 35,
   "id": "460b372c",
   "metadata": {},
   "outputs": [
    {
     "name": "stdout",
     "output_type": "stream",
     "text": [
      "              precision    recall  f1-score   support\n",
      "\n",
      "           0       1.00      1.00      1.00      1061\n",
      "           1       1.00      1.00      1.00       970\n",
      "\n",
      "    accuracy                           1.00      2031\n",
      "   macro avg       1.00      1.00      1.00      2031\n",
      "weighted avg       1.00      1.00      1.00      2031\n",
      "\n",
      "Decision tree accuracy: 0.999015263417036\n"
     ]
    },
    {
     "data": {
      "text/plain": [
       "[Text(0.27941176470588236, 0.9285714285714286, 'X[8] <= 0.045\\nentropy = 0.999\\nsamples = 6093\\nvalue = [3147, 2946]'),\n",
       " Text(0.22058823529411764, 0.7857142857142857, 'entropy = 0.0\\nsamples = 1302\\nvalue = [0, 1302]'),\n",
       " Text(0.3382352941176471, 0.7857142857142857, 'X[18] <= 0.188\\nentropy = 0.928\\nsamples = 4791\\nvalue = [3147, 1644]'),\n",
       " Text(0.11764705882352941, 0.6428571428571429, 'X[4] <= 0.438\\nentropy = 0.321\\nsamples = 1248\\nvalue = [73, 1175]'),\n",
       " Text(0.058823529411764705, 0.5, 'entropy = 0.0\\nsamples = 1175\\nvalue = [0, 1175]'),\n",
       " Text(0.17647058823529413, 0.5, 'entropy = 0.0\\nsamples = 73\\nvalue = [73, 0]'),\n",
       " Text(0.5588235294117647, 0.6428571428571429, 'X[7] <= 0.5\\nentropy = 0.564\\nsamples = 3543\\nvalue = [3074, 469]'),\n",
       " Text(0.29411764705882354, 0.5, 'X[18] <= 0.562\\nentropy = 0.184\\nsamples = 2979\\nvalue = [2896, 83]'),\n",
       " Text(0.23529411764705882, 0.35714285714285715, 'entropy = 0.0\\nsamples = 2464\\nvalue = [2464, 0]'),\n",
       " Text(0.35294117647058826, 0.35714285714285715, 'X[10] <= 0.125\\nentropy = 0.637\\nsamples = 515\\nvalue = [432, 83]'),\n",
       " Text(0.29411764705882354, 0.21428571428571427, 'entropy = 0.0\\nsamples = 393\\nvalue = [393, 0]'),\n",
       " Text(0.4117647058823529, 0.21428571428571427, 'X[20] <= 0.583\\nentropy = 0.904\\nsamples = 122\\nvalue = [39, 83]'),\n",
       " Text(0.35294117647058826, 0.07142857142857142, 'entropy = 0.356\\nsamples = 89\\nvalue = [6, 83]'),\n",
       " Text(0.47058823529411764, 0.07142857142857142, 'entropy = 0.0\\nsamples = 33\\nvalue = [33, 0]'),\n",
       " Text(0.8235294117647058, 0.5, 'X[4] <= 0.688\\nentropy = 0.9\\nsamples = 564\\nvalue = [178, 386]'),\n",
       " Text(0.7647058823529411, 0.35714285714285715, 'X[4] <= 0.25\\nentropy = 1.0\\nsamples = 361\\nvalue = [178, 183]'),\n",
       " Text(0.6470588235294118, 0.21428571428571427, 'X[3] <= 0.5\\nentropy = 0.661\\nsamples = 175\\nvalue = [30, 145]'),\n",
       " Text(0.5882352941176471, 0.07142857142857142, 'entropy = 0.0\\nsamples = 145\\nvalue = [0, 145]'),\n",
       " Text(0.7058823529411765, 0.07142857142857142, 'entropy = 0.0\\nsamples = 30\\nvalue = [30, 0]'),\n",
       " Text(0.8823529411764706, 0.21428571428571427, 'X[12] <= 0.833\\nentropy = 0.73\\nsamples = 186\\nvalue = [148, 38]'),\n",
       " Text(0.8235294117647058, 0.07142857142857142, 'entropy = 0.292\\nsamples = 156\\nvalue = [148, 8]'),\n",
       " Text(0.9411764705882353, 0.07142857142857142, 'entropy = 0.0\\nsamples = 30\\nvalue = [0, 30]'),\n",
       " Text(0.8823529411764706, 0.35714285714285715, 'entropy = 0.0\\nsamples = 203\\nvalue = [0, 203]')]"
      ]
     },
     "execution_count": 35,
     "metadata": {},
     "output_type": "execute_result"
    },
    {
     "data": {
      "image/png": "[encoded data removed]",
      "text/plain": [
       "<Figure size 640x480 with 1 Axes>"
      ]
     },
     "metadata": {},
     "output_type": "display_data"
    }
   ],
   "source": [
    "from sklearn.tree import DecisionTreeClassifier,plot_tree\n",
    "dtree= DecisionTreeClassifier(criterion='entropy',max_depth=6)\n",
    "dtree.fit(xtrain1,ytrain)\n",
    "ypred=dtree.predict(xtest1)\n",
    "print(classification_report(ytest,ypred))\n",
    "print(\"Decision tree accuracy:\",accuracy_score(ytest,ypred))\n",
    "plot_tree(dtree)"
   ]
  },
  {
   "cell_type": "markdown",
   "id": "6255674a",
   "metadata": {},
   "source": [
    "## SVM classifier"
   ]
  },
  {
   "cell_type": "code",
   "execution_count": 34,
   "id": "7243f064",
   "metadata": {},
   "outputs": [
    {
     "name": "stdout",
     "output_type": "stream",
     "text": [
      "              precision    recall  f1-score   support\n",
      "\n",
      "           0       0.99      0.99      0.99      1061\n",
      "           1       0.99      0.99      0.99       970\n",
      "\n",
      "    accuracy                           0.99      2031\n",
      "   macro avg       0.99      0.99      0.99      2031\n",
      "weighted avg       0.99      0.99      0.99      2031\n",
      "\n",
      "SVC accuracy Score: 0.9931068439192516\n"
     ]
    },
    {
     "name": "stderr",
     "output_type": "stream",
     "text": [
      "C:\\Users\\Harip\\anaconda3\\lib\\site-packages\\sklearn\\svm\\_base.py:284: ConvergenceWarning: Solver terminated early (max_iter=30).  Consider pre-processing your data with StandardScaler or MinMaxScaler.\n",
      "  warnings.warn(\n"
     ]
    }
   ],
   "source": [
    "from sklearn.svm import SVC\n",
    "svc=SVC(max_iter=30)\n",
    "svc.fit(xtrain,ytrain)\n",
    "ypred=svc.predict(xtest)\n",
    "print(classification_report(ytest,ypred))\n",
    "print(\"SVC accuracy Score:\",accuracy_score(ytest,ypred))"
   ]
  },
  {
   "cell_type": "markdown",
   "id": "7a398839",
   "metadata": {},
   "source": [
    "## Random forest classifier"
   ]
  },
  {
   "cell_type": "code",
   "execution_count": 37,
   "id": "ac444747",
   "metadata": {},
   "outputs": [
    {
     "name": "stdout",
     "output_type": "stream",
     "text": [
      "              precision    recall  f1-score   support\n",
      "\n",
      "           0       0.99      1.00      0.99      1061\n",
      "           1       1.00      0.98      0.99       970\n",
      "\n",
      "    accuracy                           0.99      2031\n",
      "   macro avg       0.99      0.99      0.99      2031\n",
      "weighted avg       0.99      0.99      0.99      2031\n",
      "\n",
      "Random forest classifier accuracy Score: 0.9921221073362876\n"
     ]
    }
   ],
   "source": [
    "from sklearn.ensemble import RandomForestClassifier\n",
    "rfc=RandomForestClassifier(n_estimators=20,criterion='gini',max_depth=6)\n",
    "rfc.fit(xtrain1,ytrain)\n",
    "ypred=rfc.predict(xtest1)\n",
    "print(classification_report(ytest,ypred))\n",
    "print(\"Random forest classifier accuracy Score:\",accuracy_score(ytest,ypred))"
   ]
  },
  {
   "cell_type": "markdown",
   "id": "0a1fd86e",
   "metadata": {},
   "source": [
    "## Boosting-AdaBoost "
   ]
  },
  {
   "cell_type": "code",
   "execution_count": 40,
   "id": "80844e21",
   "metadata": {},
   "outputs": [
    {
     "name": "stdout",
     "output_type": "stream",
     "text": [
      "              precision    recall  f1-score   support\n",
      "\n",
      "           0       1.00      1.00      1.00      1061\n",
      "           1       1.00      1.00      1.00       970\n",
      "\n",
      "    accuracy                           1.00      2031\n",
      "   macro avg       1.00      1.00      1.00      2031\n",
      "weighted avg       1.00      1.00      1.00      2031\n",
      "\n",
      "AdaBoost classifier accuracy Score: 0.999015263417036\n"
     ]
    }
   ],
   "source": [
    "from sklearn.ensemble import AdaBoostClassifier\n",
    "ada=AdaBoostClassifier(n_estimators=20)\n",
    "ada.fit(xtrain1,ytrain)\n",
    "ypred=ada.predict(xtest1)\n",
    "print(classification_report(ytest,ypred))\n",
    "print(\"AdaBoost classifier accuracy Score:\",accuracy_score(ytest,ypred))"
   ]
  },
  {
   "cell_type": "markdown",
   "id": "d5549b29",
   "metadata": {},
   "source": [
    "## For the given data: \n",
    "### Naive bayes gives least accuracy followed by logistic regression which gives the second least\n",
    "### Rest of the algorithms give an accuracy of 99% and above for the same value of parameters\n",
    "### Further, decision tree and AdaBoost give the maximum accuracy of 99.9%\n"
   ]
  },
  {
   "cell_type": "code",
   "execution_count": null,
   "id": "36a22af2",
   "metadata": {},
   "outputs": [],
   "source": []
  }
 ],
 "metadata": {
  "kernelspec": {
   "display_name": "Python 3 (ipykernel)",
   "language": "python",
   "name": "python3"
  },
  "language_info": {
   "codemirror_mode": {
    "name": "ipython",
    "version": 3
   },
   "file_extension": ".py",
   "mimetype": "text/x-python",
   "name": "python",
   "nbconvert_exporter": "python",
   "pygments_lexer": "ipython3",
   "version": "3.9.13"
  }
 },
 "nbformat": 4,
 "nbformat_minor": 5
}
